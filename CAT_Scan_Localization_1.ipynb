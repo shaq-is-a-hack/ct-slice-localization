{
  "nbformat": 4,
  "nbformat_minor": 0,
  "metadata": {
    "colab": {
      "provenance": [],
      "gpuType": "T4"
    },
    "kernelspec": {
      "name": "python3",
      "display_name": "Python 3"
    },
    "language_info": {
      "name": "python"
    },
    "accelerator": "GPU"
  },
  "cells": [
    {
      "cell_type": "markdown",
      "source": [
        "Mount Google Drive"
      ],
      "metadata": {
        "id": "VSI-5tM_-TI1"
      }
    },
    {
      "cell_type": "code",
      "source": [
        "# Mount Google Drive (optional, if you want to save files)\n",
        "from google.colab import drive\n",
        "drive.mount('/content/drive')\n",
        "\n",
        "# Install required packages\n",
        "!pip install kagglehub numpy pandas matplotlib seaborn scikit-learn lightgbm tensorflow streamlit"
      ],
      "metadata": {
        "colab": {
          "base_uri": "https://localhost:8080/"
        },
        "collapsed": true,
        "id": "GrZ5Y5V35w3N",
        "outputId": "68ba1ae5-8791-48cd-db59-69b0dd46f8ba"
      },
      "execution_count": 11,
      "outputs": [
        {
          "output_type": "stream",
          "name": "stdout",
          "text": [
            "Drive already mounted at /content/drive; to attempt to forcibly remount, call drive.mount(\"/content/drive\", force_remount=True).\n",
            "Requirement already satisfied: kagglehub in /usr/local/lib/python3.11/dist-packages (0.3.12)\n",
            "Requirement already satisfied: numpy in /usr/local/lib/python3.11/dist-packages (2.0.2)\n",
            "Requirement already satisfied: pandas in /usr/local/lib/python3.11/dist-packages (2.2.2)\n",
            "Requirement already satisfied: matplotlib in /usr/local/lib/python3.11/dist-packages (3.10.0)\n",
            "Requirement already satisfied: seaborn in /usr/local/lib/python3.11/dist-packages (0.13.2)\n",
            "Requirement already satisfied: scikit-learn in /usr/local/lib/python3.11/dist-packages (1.6.1)\n",
            "Requirement already satisfied: lightgbm in /usr/local/lib/python3.11/dist-packages (4.5.0)\n",
            "Requirement already satisfied: tensorflow in /usr/local/lib/python3.11/dist-packages (2.18.0)\n",
            "Requirement already satisfied: streamlit in /usr/local/lib/python3.11/dist-packages (1.46.1)\n",
            "Requirement already satisfied: packaging in /usr/local/lib/python3.11/dist-packages (from kagglehub) (24.2)\n",
            "Requirement already satisfied: pyyaml in /usr/local/lib/python3.11/dist-packages (from kagglehub) (6.0.2)\n",
            "Requirement already satisfied: requests in /usr/local/lib/python3.11/dist-packages (from kagglehub) (2.32.3)\n",
            "Requirement already satisfied: tqdm in /usr/local/lib/python3.11/dist-packages (from kagglehub) (4.67.1)\n",
            "Requirement already satisfied: python-dateutil>=2.8.2 in /usr/local/lib/python3.11/dist-packages (from pandas) (2.9.0.post0)\n",
            "Requirement already satisfied: pytz>=2020.1 in /usr/local/lib/python3.11/dist-packages (from pandas) (2025.2)\n",
            "Requirement already satisfied: tzdata>=2022.7 in /usr/local/lib/python3.11/dist-packages (from pandas) (2025.2)\n",
            "Requirement already satisfied: contourpy>=1.0.1 in /usr/local/lib/python3.11/dist-packages (from matplotlib) (1.3.2)\n",
            "Requirement already satisfied: cycler>=0.10 in /usr/local/lib/python3.11/dist-packages (from matplotlib) (0.12.1)\n",
            "Requirement already satisfied: fonttools>=4.22.0 in /usr/local/lib/python3.11/dist-packages (from matplotlib) (4.58.4)\n",
            "Requirement already satisfied: kiwisolver>=1.3.1 in /usr/local/lib/python3.11/dist-packages (from matplotlib) (1.4.8)\n",
            "Requirement already satisfied: pillow>=8 in /usr/local/lib/python3.11/dist-packages (from matplotlib) (11.2.1)\n",
            "Requirement already satisfied: pyparsing>=2.3.1 in /usr/local/lib/python3.11/dist-packages (from matplotlib) (3.2.3)\n",
            "Requirement already satisfied: scipy>=1.6.0 in /usr/local/lib/python3.11/dist-packages (from scikit-learn) (1.15.3)\n",
            "Requirement already satisfied: joblib>=1.2.0 in /usr/local/lib/python3.11/dist-packages (from scikit-learn) (1.5.1)\n",
            "Requirement already satisfied: threadpoolctl>=3.1.0 in /usr/local/lib/python3.11/dist-packages (from scikit-learn) (3.6.0)\n",
            "Requirement already satisfied: absl-py>=1.0.0 in /usr/local/lib/python3.11/dist-packages (from tensorflow) (1.4.0)\n",
            "Requirement already satisfied: astunparse>=1.6.0 in /usr/local/lib/python3.11/dist-packages (from tensorflow) (1.6.3)\n",
            "Requirement already satisfied: flatbuffers>=24.3.25 in /usr/local/lib/python3.11/dist-packages (from tensorflow) (25.2.10)\n",
            "Requirement already satisfied: gast!=0.5.0,!=0.5.1,!=0.5.2,>=0.2.1 in /usr/local/lib/python3.11/dist-packages (from tensorflow) (0.6.0)\n",
            "Requirement already satisfied: google-pasta>=0.1.1 in /usr/local/lib/python3.11/dist-packages (from tensorflow) (0.2.0)\n",
            "Requirement already satisfied: libclang>=13.0.0 in /usr/local/lib/python3.11/dist-packages (from tensorflow) (18.1.1)\n",
            "Requirement already satisfied: opt-einsum>=2.3.2 in /usr/local/lib/python3.11/dist-packages (from tensorflow) (3.4.0)\n",
            "Requirement already satisfied: protobuf!=4.21.0,!=4.21.1,!=4.21.2,!=4.21.3,!=4.21.4,!=4.21.5,<6.0.0dev,>=3.20.3 in /usr/local/lib/python3.11/dist-packages (from tensorflow) (5.29.5)\n",
            "Requirement already satisfied: setuptools in /usr/local/lib/python3.11/dist-packages (from tensorflow) (75.2.0)\n",
            "Requirement already satisfied: six>=1.12.0 in /usr/local/lib/python3.11/dist-packages (from tensorflow) (1.17.0)\n",
            "Requirement already satisfied: termcolor>=1.1.0 in /usr/local/lib/python3.11/dist-packages (from tensorflow) (3.1.0)\n",
            "Requirement already satisfied: typing-extensions>=3.6.6 in /usr/local/lib/python3.11/dist-packages (from tensorflow) (4.14.0)\n",
            "Requirement already satisfied: wrapt>=1.11.0 in /usr/local/lib/python3.11/dist-packages (from tensorflow) (1.17.2)\n",
            "Requirement already satisfied: grpcio<2.0,>=1.24.3 in /usr/local/lib/python3.11/dist-packages (from tensorflow) (1.73.0)\n",
            "Requirement already satisfied: tensorboard<2.19,>=2.18 in /usr/local/lib/python3.11/dist-packages (from tensorflow) (2.18.0)\n",
            "Requirement already satisfied: keras>=3.5.0 in /usr/local/lib/python3.11/dist-packages (from tensorflow) (3.8.0)\n",
            "Requirement already satisfied: h5py>=3.11.0 in /usr/local/lib/python3.11/dist-packages (from tensorflow) (3.14.0)\n",
            "Requirement already satisfied: ml-dtypes<0.5.0,>=0.4.0 in /usr/local/lib/python3.11/dist-packages (from tensorflow) (0.4.1)\n",
            "Requirement already satisfied: tensorflow-io-gcs-filesystem>=0.23.1 in /usr/local/lib/python3.11/dist-packages (from tensorflow) (0.37.1)\n",
            "Requirement already satisfied: altair<6,>=4.0 in /usr/local/lib/python3.11/dist-packages (from streamlit) (5.5.0)\n",
            "Requirement already satisfied: blinker<2,>=1.5.0 in /usr/local/lib/python3.11/dist-packages (from streamlit) (1.9.0)\n",
            "Requirement already satisfied: cachetools<7,>=4.0 in /usr/local/lib/python3.11/dist-packages (from streamlit) (5.5.2)\n",
            "Requirement already satisfied: click<9,>=7.0 in /usr/local/lib/python3.11/dist-packages (from streamlit) (8.2.1)\n",
            "Requirement already satisfied: pyarrow>=7.0 in /usr/local/lib/python3.11/dist-packages (from streamlit) (18.1.0)\n",
            "Requirement already satisfied: tenacity<10,>=8.1.0 in /usr/local/lib/python3.11/dist-packages (from streamlit) (8.5.0)\n",
            "Requirement already satisfied: toml<2,>=0.10.1 in /usr/local/lib/python3.11/dist-packages (from streamlit) (0.10.2)\n",
            "Requirement already satisfied: watchdog<7,>=2.1.5 in /usr/local/lib/python3.11/dist-packages (from streamlit) (6.0.0)\n",
            "Requirement already satisfied: gitpython!=3.1.19,<4,>=3.0.7 in /usr/local/lib/python3.11/dist-packages (from streamlit) (3.1.44)\n",
            "Requirement already satisfied: pydeck<1,>=0.8.0b4 in /usr/local/lib/python3.11/dist-packages (from streamlit) (0.9.1)\n",
            "Requirement already satisfied: tornado!=6.5.0,<7,>=6.0.3 in /usr/local/lib/python3.11/dist-packages (from streamlit) (6.4.2)\n",
            "Requirement already satisfied: jinja2 in /usr/local/lib/python3.11/dist-packages (from altair<6,>=4.0->streamlit) (3.1.6)\n",
            "Requirement already satisfied: jsonschema>=3.0 in /usr/local/lib/python3.11/dist-packages (from altair<6,>=4.0->streamlit) (4.24.0)\n",
            "Requirement already satisfied: narwhals>=1.14.2 in /usr/local/lib/python3.11/dist-packages (from altair<6,>=4.0->streamlit) (1.44.0)\n",
            "Requirement already satisfied: wheel<1.0,>=0.23.0 in /usr/local/lib/python3.11/dist-packages (from astunparse>=1.6.0->tensorflow) (0.45.1)\n",
            "Requirement already satisfied: gitdb<5,>=4.0.1 in /usr/local/lib/python3.11/dist-packages (from gitpython!=3.1.19,<4,>=3.0.7->streamlit) (4.0.12)\n",
            "Requirement already satisfied: rich in /usr/local/lib/python3.11/dist-packages (from keras>=3.5.0->tensorflow) (13.9.4)\n",
            "Requirement already satisfied: namex in /usr/local/lib/python3.11/dist-packages (from keras>=3.5.0->tensorflow) (0.1.0)\n",
            "Requirement already satisfied: optree in /usr/local/lib/python3.11/dist-packages (from keras>=3.5.0->tensorflow) (0.16.0)\n",
            "Requirement already satisfied: charset-normalizer<4,>=2 in /usr/local/lib/python3.11/dist-packages (from requests->kagglehub) (3.4.2)\n",
            "Requirement already satisfied: idna<4,>=2.5 in /usr/local/lib/python3.11/dist-packages (from requests->kagglehub) (3.10)\n",
            "Requirement already satisfied: urllib3<3,>=1.21.1 in /usr/local/lib/python3.11/dist-packages (from requests->kagglehub) (2.4.0)\n",
            "Requirement already satisfied: certifi>=2017.4.17 in /usr/local/lib/python3.11/dist-packages (from requests->kagglehub) (2025.6.15)\n",
            "Requirement already satisfied: markdown>=2.6.8 in /usr/local/lib/python3.11/dist-packages (from tensorboard<2.19,>=2.18->tensorflow) (3.8.2)\n",
            "Requirement already satisfied: tensorboard-data-server<0.8.0,>=0.7.0 in /usr/local/lib/python3.11/dist-packages (from tensorboard<2.19,>=2.18->tensorflow) (0.7.2)\n",
            "Requirement already satisfied: werkzeug>=1.0.1 in /usr/local/lib/python3.11/dist-packages (from tensorboard<2.19,>=2.18->tensorflow) (3.1.3)\n",
            "Requirement already satisfied: smmap<6,>=3.0.1 in /usr/local/lib/python3.11/dist-packages (from gitdb<5,>=4.0.1->gitpython!=3.1.19,<4,>=3.0.7->streamlit) (5.0.2)\n",
            "Requirement already satisfied: MarkupSafe>=2.0 in /usr/local/lib/python3.11/dist-packages (from jinja2->altair<6,>=4.0->streamlit) (3.0.2)\n",
            "Requirement already satisfied: attrs>=22.2.0 in /usr/local/lib/python3.11/dist-packages (from jsonschema>=3.0->altair<6,>=4.0->streamlit) (25.3.0)\n",
            "Requirement already satisfied: jsonschema-specifications>=2023.03.6 in /usr/local/lib/python3.11/dist-packages (from jsonschema>=3.0->altair<6,>=4.0->streamlit) (2025.4.1)\n",
            "Requirement already satisfied: referencing>=0.28.4 in /usr/local/lib/python3.11/dist-packages (from jsonschema>=3.0->altair<6,>=4.0->streamlit) (0.36.2)\n",
            "Requirement already satisfied: rpds-py>=0.7.1 in /usr/local/lib/python3.11/dist-packages (from jsonschema>=3.0->altair<6,>=4.0->streamlit) (0.25.1)\n",
            "Requirement already satisfied: markdown-it-py>=2.2.0 in /usr/local/lib/python3.11/dist-packages (from rich->keras>=3.5.0->tensorflow) (3.0.0)\n",
            "Requirement already satisfied: pygments<3.0.0,>=2.13.0 in /usr/local/lib/python3.11/dist-packages (from rich->keras>=3.5.0->tensorflow) (2.19.2)\n",
            "Requirement already satisfied: mdurl~=0.1 in /usr/local/lib/python3.11/dist-packages (from markdown-it-py>=2.2.0->rich->keras>=3.5.0->tensorflow) (0.1.2)\n"
          ]
        }
      ]
    },
    {
      "cell_type": "code",
      "metadata": {
        "colab": {
          "base_uri": "https://localhost:8080/"
        },
        "collapsed": true,
        "id": "1a4fb9e1",
        "outputId": "e492ca22-cc24-463a-d435-d5f47ced3326"
      },
      "source": [
        "!pip install kagglehub"
      ],
      "execution_count": 12,
      "outputs": [
        {
          "output_type": "stream",
          "name": "stdout",
          "text": [
            "Requirement already satisfied: kagglehub in /usr/local/lib/python3.11/dist-packages (0.3.12)\n",
            "Requirement already satisfied: packaging in /usr/local/lib/python3.11/dist-packages (from kagglehub) (24.2)\n",
            "Requirement already satisfied: pyyaml in /usr/local/lib/python3.11/dist-packages (from kagglehub) (6.0.2)\n",
            "Requirement already satisfied: requests in /usr/local/lib/python3.11/dist-packages (from kagglehub) (2.32.3)\n",
            "Requirement already satisfied: tqdm in /usr/local/lib/python3.11/dist-packages (from kagglehub) (4.67.1)\n",
            "Requirement already satisfied: charset-normalizer<4,>=2 in /usr/local/lib/python3.11/dist-packages (from requests->kagglehub) (3.4.2)\n",
            "Requirement already satisfied: idna<4,>=2.5 in /usr/local/lib/python3.11/dist-packages (from requests->kagglehub) (3.10)\n",
            "Requirement already satisfied: urllib3<3,>=1.21.1 in /usr/local/lib/python3.11/dist-packages (from requests->kagglehub) (2.4.0)\n",
            "Requirement already satisfied: certifi>=2017.4.17 in /usr/local/lib/python3.11/dist-packages (from requests->kagglehub) (2025.6.15)\n"
          ]
        }
      ]
    },
    {
      "cell_type": "markdown",
      "source": [
        "Data from Kaggle"
      ],
      "metadata": {
        "id": "2qUZqrZ5-O1b"
      }
    },
    {
      "cell_type": "code",
      "metadata": {
        "colab": {
          "base_uri": "https://localhost:8080/"
        },
        "id": "0e46fc07",
        "outputId": "5ba10bc8-2231-455b-9bcc-2ac2f8e6c5ea"
      },
      "source": [
        "import kagglehub\n",
        "\n",
        "# Download the dataset\n",
        "path = kagglehub.dataset_download(\"uciml/ct-slice-localization\")\n",
        "print(\"Path to dataset files:\", path)\n"
      ],
      "execution_count": 28,
      "outputs": [
        {
          "output_type": "stream",
          "name": "stdout",
          "text": [
            "Path to dataset files: /kaggle/input/ct-slice-localization\n"
          ]
        }
      ]
    },
    {
      "cell_type": "markdown",
      "source": [
        "Data Loading and EDA"
      ],
      "metadata": {
        "id": "8P_0Efow-Jd3"
      }
    },
    {
      "cell_type": "code",
      "source": [
        "import pandas as pd\n",
        "import numpy as np\n",
        "import matplotlib.pyplot as plt\n",
        "import seaborn as sns\n",
        "\n",
        "# Load the dataset\n",
        "data = pd.read_csv('/content/drive/MyDrive/kaggle/input/ct-slice-localization/slice_localization_data.csv')\n",
        "\n",
        "# Basic exploration\n",
        "print(data.head())\n",
        "print(\"\\nData shape:\", data.shape)\n",
        "print(\"\\nData info:\")\n",
        "print(data.info())\n",
        "print(\"\\nDescriptive statistics:\")\n",
        "print(data.describe())\n",
        "\n",
        "# Check for missing values\n",
        "print(\"\\nMissing values:\")\n",
        "print(data.isnull().sum())\n",
        "\n",
        "# Check target variable distribution\n",
        "plt.figure(figsize=(10, 6))\n",
        "sns.histplot(data['reference'], bins=30, kde=True)\n",
        "plt.title('Distribution of Axial Positions (0=head, 180=feet)')\n",
        "plt.show()"
      ],
      "metadata": {
        "colab": {
          "base_uri": "https://localhost:8080/",
          "height": 1000
        },
        "id": "QWr5Q1XZ9LLR",
        "outputId": "da2576a9-7927-4ce3-8b21-7fff26f2354d"
      },
      "execution_count": 14,
      "outputs": [
        {
          "output_type": "stream",
          "name": "stderr",
          "text": [
            "/tmp/ipython-input-14-17412782.py:7: DtypeWarning: Columns (57) have mixed types. Specify dtype option on import or set low_memory=False.\n",
            "  data = pd.read_csv('/content/drive/MyDrive/kaggle/input/ct-slice-localization/slice_localization_data.csv')\n"
          ]
        },
        {
          "output_type": "stream",
          "name": "stdout",
          "text": [
            "   patientId  value0  value1  value2  value3  value4  value5  value6  value7  \\\n",
            "0          0     0.0     0.0     0.0     0.0     0.0     0.0   -0.25   -0.25   \n",
            "1          0     0.0     0.0     0.0     0.0     0.0     0.0   -0.25   -0.25   \n",
            "2          0     0.0     0.0     0.0     0.0     0.0     0.0   -0.25   -0.25   \n",
            "3          0     0.0     0.0     0.0     0.0     0.0     0.0   -0.25   -0.25   \n",
            "4          0     0.0     0.0     0.0     0.0     0.0     0.0   -0.25   -0.25   \n",
            "\n",
            "   value8  ...  value375  value376  value377  value378  value379  value380  \\\n",
            "0   -0.25  ...     -0.25  0.980381       0.0       0.0       0.0       0.0   \n",
            "1   -0.25  ...     -0.25  0.977008       0.0       0.0       0.0       0.0   \n",
            "2   -0.25  ...     -0.25  0.977008       0.0       0.0       0.0       0.0   \n",
            "3   -0.25  ...     -0.25  0.977008       0.0       0.0       0.0       0.0   \n",
            "4   -0.25  ...     -0.25  0.976833       0.0       0.0       0.0       0.0   \n",
            "\n",
            "   value381  value382  value383  reference  \n",
            "0       0.0     -0.25     -0.25  21.803851  \n",
            "1       0.0     -0.25     -0.25  21.745726  \n",
            "2       0.0     -0.25     -0.25  21.687600  \n",
            "3       0.0     -0.25     -0.25  21.629474  \n",
            "4       0.0     -0.25     -0.25  21.571348  \n",
            "\n",
            "[5 rows x 386 columns]\n",
            "\n",
            "Data shape: (36437, 386)\n",
            "\n",
            "Data info:\n",
            "<class 'pandas.core.frame.DataFrame'>\n",
            "RangeIndex: 36437 entries, 0 to 36436\n",
            "Columns: 386 entries, patientId to reference\n",
            "dtypes: float64(384), int64(1), object(1)\n",
            "memory usage: 107.3+ MB\n",
            "None\n",
            "\n",
            "Descriptive statistics:\n",
            "          patientId        value0        value1        value2        value3  \\\n",
            "count  36437.000000  36437.000000  36437.000000  36437.000000  36437.000000   \n",
            "mean      31.480418      0.058765      0.072606      0.149828      0.227699   \n",
            "std       17.299250      0.172093      0.198845      0.304556      0.363215   \n",
            "min        0.000000      0.000000      0.000000      0.000000      0.000000   \n",
            "25%       17.000000      0.000000      0.000000      0.000000      0.000000   \n",
            "50%       33.000000      0.000000      0.000000      0.000000      0.000000   \n",
            "75%       46.000000      0.000000      0.000000      0.015889      0.506146   \n",
            "max       62.000000      1.000000      1.000000      1.000000      1.000000   \n",
            "\n",
            "             value4        value5        value6        value7        value8  \\\n",
            "count  36437.000000  36437.000000  36437.000000  36437.000000  36437.000000   \n",
            "mean       0.299878      0.285216      0.202948      0.065046     -0.039023   \n",
            "std        0.387952      0.371793      0.348801      0.295321      0.277376   \n",
            "min        0.000000     -0.250000     -0.250000     -0.250000     -0.250000   \n",
            "25%        0.000000      0.000000      0.000000      0.000000     -0.250000   \n",
            "50%        0.000000      0.000000      0.000000      0.000000      0.000000   \n",
            "75%        0.747260      0.677322      0.441090      0.000000      0.000000   \n",
            "max        0.998790      0.993703      0.999334      1.000000      1.000000   \n",
            "\n",
            "       ...      value375      value376      value377      value378  \\\n",
            "count  ...  36436.000000  36436.000000  36436.000000  36436.000000   \n",
            "mean   ...     -0.027442      0.180344      0.311030      0.349495   \n",
            "std    ...      0.085942      0.381092      0.460220      0.475266   \n",
            "min    ...     -0.250000      0.000000      0.000000      0.000000   \n",
            "25%    ...      0.000000      0.000000      0.000000      0.000000   \n",
            "50%    ...      0.000000      0.000000      0.000000      0.000000   \n",
            "75%    ...      0.000000      0.000000      0.995863      0.999647   \n",
            "max    ...      0.961279      1.000000      1.000000      1.000000   \n",
            "\n",
            "           value379      value380     value381      value382      value383  \\\n",
            "count  36436.000000  36436.000000  36436.00000  36436.000000  36436.000000   \n",
            "mean       0.333833      0.261276      0.08166     -0.029786     -0.156570   \n",
            "std        0.468871      0.434977      0.27814      0.101877      0.121752   \n",
            "min        0.000000      0.000000     -0.25000     -0.250000     -0.250000   \n",
            "25%        0.000000      0.000000      0.00000      0.000000     -0.250000   \n",
            "50%        0.000000      0.000000      0.00000      0.000000     -0.250000   \n",
            "75%        0.999425      0.920736      0.00000      0.000000      0.000000   \n",
            "max        1.000000      1.000000      0.99977      0.996839      0.942851   \n",
            "\n",
            "          reference  \n",
            "count  36436.000000  \n",
            "mean      47.449824  \n",
            "std       22.523379  \n",
            "min        5.031984  \n",
            "25%       30.102590  \n",
            "50%       44.350646  \n",
            "75%       65.032466  \n",
            "max       97.489115  \n",
            "\n",
            "[8 rows x 385 columns]\n",
            "\n",
            "Missing values:\n",
            "patientId    0\n",
            "value0       0\n",
            "value1       0\n",
            "value2       0\n",
            "value3       0\n",
            "            ..\n",
            "value380     1\n",
            "value381     1\n",
            "value382     1\n",
            "value383     1\n",
            "reference    1\n",
            "Length: 386, dtype: int64\n"
          ]
        },
        {
          "output_type": "display_data",
          "data": {
            "text/plain": [
              "<Figure size 1000x600 with 1 Axes>"
            ],
            "image/png": "[encoded data removed]"
          },
          "metadata": {}
        }
      ]
    },
    {
      "cell_type": "markdown",
      "source": [
        "Data Preprocessing"
      ],
      "metadata": {
        "id": "V7nhsUFp-bH9"
      }
    },
    {
      "cell_type": "code",
      "source": [
        "\n",
        "# Data type\n",
        "\n",
        "data.dtypes\n",
        "data = data.apply(pd.to_numeric, errors='coerce').dropna()\n",
        "\n"
      ],
      "metadata": {
        "id": "DjKSops4g3km"
      },
      "execution_count": 29,
      "outputs": []
    },
    {
      "cell_type": "code",
      "source": [
        "from sklearn.model_selection import train_test_split\n",
        "from sklearn.preprocessing import StandardScaler\n",
        "from sklearn.impute import SimpleImputer\n",
        "\n",
        "# Separate features and target\n",
        "X = data.drop('reference', axis=1)\n",
        "y = data['reference']\n",
        "\n",
        "# Handle outliers (-0.25 values)\n",
        "X = X.replace(-0.25, np.nan)\n",
        "\n",
        "\n",
        "\n",
        "\n",
        "# Impute missing values (from outliers)\n",
        "imputer = SimpleImputer(strategy='median')\n",
        "X_imputed = imputer.fit_transform(X)\n",
        "\n",
        "# Scale the features\n",
        "scaler = StandardScaler()\n",
        "X_scaled = scaler.fit_transform(X_imputed)\n",
        "\n",
        "# Split into train and test sets\n",
        "X_train, X_test, y_train, y_test = train_test_split(\n",
        "    X_scaled, y, test_size=0.2, random_state=42\n",
        ")\n",
        "\n",
        "print(\"Training set shape:\", X_train.shape)\n",
        "print(\"Test set shape:\", X_test.shape)"
      ],
      "metadata": {
        "colab": {
          "base_uri": "https://localhost:8080/"
        },
        "id": "qJXEqJmR-Acu",
        "outputId": "62dd2606-e8d8-4d90-ffee-b29678c68c45"
      },
      "execution_count": 30,
      "outputs": [
        {
          "output_type": "stream",
          "name": "stderr",
          "text": [
            "/usr/local/lib/python3.11/dist-packages/sklearn/impute/_base.py:635: UserWarning: Skipping features without any observed values: ['value59' 'value69' 'value179' 'value189' 'value351']. At least one non-missing value is needed for imputation with strategy='median'.\n",
            "  warnings.warn(\n"
          ]
        },
        {
          "output_type": "stream",
          "name": "stdout",
          "text": [
            "Training set shape: (29148, 380)\n",
            "Test set shape: (7288, 380)\n"
          ]
        }
      ]
    },
    {
      "cell_type": "markdown",
      "source": [
        "Model Building and Evaluation"
      ],
      "metadata": {
        "id": "b-MYDWtN-rLT"
      }
    },
    {
      "cell_type": "code",
      "source": [
        "from sklearn.linear_model import LinearRegression\n",
        "from sklearn.ensemble import RandomForestRegressor\n",
        "import lightgbm as lgb\n",
        "from sklearn.metrics import mean_absolute_error, mean_squared_error, r2_score\n",
        "\n",
        "def evaluate_model(model, X_train, y_train, X_test, y_test):\n",
        "    # Train the model\n",
        "    model.fit(X_train, y_train)\n",
        "\n",
        "    # Make predictions\n",
        "    y_pred_train = model.predict(X_train)\n",
        "    y_pred_test = model.predict(X_test)\n",
        "\n",
        "    # Calculate metrics\n",
        "    metrics = {\n",
        "        'MAE_train': mean_absolute_error(y_train, y_pred_train),\n",
        "        'MAE_test': mean_absolute_error(y_test, y_pred_test),\n",
        "        'RMSE_train': np.sqrt(mean_squared_error(y_train, y_pred_train)),\n",
        "        'RMSE_test': np.sqrt(mean_squared_error(y_test, y_pred_test)),\n",
        "        'R2_train': r2_score(y_train, y_pred_train),\n",
        "        'R2_test': r2_score(y_test, y_pred_test)\n",
        "    }\n",
        "\n",
        "    return metrics\n",
        "\n",
        "# Initialize models\n",
        "models = {\n",
        "    'Linear Regression': LinearRegression(),\n",
        "    'Random Forest': RandomForestRegressor(n_estimators=100, random_state=42),\n",
        "    'LightGBM': lgb.LGBMRegressor(random_state=42)\n",
        "}\n",
        "\n",
        "# Evaluate each model\n",
        "results = {}\n",
        "for name, model in models.items():\n",
        "    results[name] = evaluate_model(model, X_train, y_train, X_test, y_test)\n",
        "    print(f\"\\n{name} Results:\")\n",
        "    print(pd.DataFrame(results[name], index=[name]))"
      ],
      "metadata": {
        "colab": {
          "base_uri": "https://localhost:8080/"
        },
        "id": "fwxJyghG-uRe",
        "outputId": "00ac5789-0c45-4d81-cc02-29afb7dd7304"
      },
      "execution_count": 31,
      "outputs": [
        {
          "output_type": "stream",
          "name": "stdout",
          "text": [
            "\n",
            "Linear Regression Results:\n",
            "                   MAE_train  MAE_test  RMSE_train  RMSE_test  R2_train  \\\n",
            "Linear Regression   6.373336  6.346921    8.434786   8.517894  0.860697   \n",
            "\n",
            "                   R2_test  \n",
            "Linear Regression  0.85293  \n",
            "\n",
            "Random Forest Results:\n",
            "               MAE_train  MAE_test  RMSE_train  RMSE_test  R2_train  R2_test\n",
            "Random Forest   0.187592  0.465432    0.695416   1.700295  0.999053  0.99414\n"
          ]
        },
        {
          "output_type": "stream",
          "name": "stderr",
          "text": [
            "/usr/local/lib/python3.11/dist-packages/sklearn/utils/deprecation.py:151: FutureWarning: 'force_all_finite' was renamed to 'ensure_all_finite' in 1.6 and will be removed in 1.8.\n",
            "  warnings.warn(\n"
          ]
        },
        {
          "output_type": "stream",
          "name": "stdout",
          "text": [
            "[LightGBM] [Info] Auto-choosing col-wise multi-threading, the overhead of testing was 0.142917 seconds.\n",
            "You can set `force_col_wise=true` to remove the overhead.\n",
            "[LightGBM] [Info] Total Bins 77968\n",
            "[LightGBM] [Info] Number of data points in the train set: 29148, number of used features: 343\n",
            "[LightGBM] [Info] Start training from score 47.550907\n"
          ]
        },
        {
          "output_type": "stream",
          "name": "stderr",
          "text": [
            "/usr/local/lib/python3.11/dist-packages/sklearn/utils/deprecation.py:151: FutureWarning: 'force_all_finite' was renamed to 'ensure_all_finite' in 1.6 and will be removed in 1.8.\n",
            "  warnings.warn(\n"
          ]
        },
        {
          "output_type": "stream",
          "name": "stdout",
          "text": [
            "\n",
            "LightGBM Results:\n",
            "          MAE_train  MAE_test  RMSE_train  RMSE_test  R2_train   R2_test\n",
            "LightGBM    1.42313  1.617541    2.092872   2.578269  0.991424  0.986525\n"
          ]
        },
        {
          "output_type": "stream",
          "name": "stderr",
          "text": [
            "/usr/local/lib/python3.11/dist-packages/sklearn/utils/deprecation.py:151: FutureWarning: 'force_all_finite' was renamed to 'ensure_all_finite' in 1.6 and will be removed in 1.8.\n",
            "  warnings.warn(\n"
          ]
        }
      ]
    },
    {
      "cell_type": "markdown",
      "source": [
        "Based on the result, *LightGBM shows the best balance of performance and generalization*"
      ],
      "metadata": {
        "id": "_0wjfm8wHtP0"
      }
    },
    {
      "cell_type": "markdown",
      "source": [
        "Hyperparameter Tuning (for best model)"
      ],
      "metadata": {
        "id": "GcTcYmtR-2jl"
      }
    },
    {
      "cell_type": "markdown",
      "source": [
        "6.1 Define Refined Parameter Grid"
      ],
      "metadata": {
        "id": "a8kaCl2AH0fQ"
      }
    },
    {
      "cell_type": "code",
      "source": [
        "from sklearn.model_selection import GridSearchCV\n",
        "\n",
        "# Focus on parameters that address overfitting and improve accuracy\n",
        "param_grid = {\n",
        "    'n_estimators': [200, 300],          # More trees for robustness\n",
        "    'max_depth': [7, 10],                # Limit depth to prevent overfitting\n",
        "    'learning_rate': [0.05, 0.1],        # Balance speed and accuracy\n",
        "    'num_leaves': [63, 127],             # Controls complexity\n",
        "    'min_child_samples': [20, 50],       # Regularization\n",
        "    'reg_alpha': [0, 0.1],               # L1 regularization\n",
        "    'reg_lambda': [0, 0.1]               # L2 regularization\n",
        "}"
      ],
      "metadata": {
        "id": "uZClTC9aHQo6"
      },
      "execution_count": 33,
      "outputs": []
    },
    {
      "cell_type": "markdown",
      "source": [
        "6.2 Perform Grid Search"
      ],
      "metadata": {
        "id": "bKaE0TAtH4gF"
      }
    },
    {
      "cell_type": "code",
      "source": [
        "# Initialize LightGBM with fixed random state\n",
        "lgb_model = lgb.LGBMRegressor(random_state=42)\n",
        "\n",
        "# Use MAE as scoring metric (matches your objective)\n",
        "grid_search = GridSearchCV(\n",
        "    estimator=lgb_model,\n",
        "    param_grid=param_grid,\n",
        "    cv=5,                                # 5-fold cross-validation\n",
        "    scoring='neg_mean_absolute_error',   # Optimize for MAE\n",
        "    n_jobs=-1,                           # Use all CPU cores\n",
        "    verbose=1                            # Show progress\n",
        ")\n",
        "\n",
        "# Run grid search\n",
        "grid_search.fit(X_train, y_train)"
      ],
      "metadata": {
        "colab": {
          "base_uri": "https://localhost:8080/"
        },
        "id": "8n8y7hOmH5ON",
        "outputId": "4c119d20-51a2-44e4-e729-5081000ed795"
      },
      "execution_count": null,
      "outputs": [
        {
          "metadata": {
            "tags": null
          },
          "name": "stdout",
          "output_type": "stream",
          "text": [
            "Fitting 5 folds for each of 128 candidates, totalling 640 fits\n"
          ]
        }
      ]
    },
    {
      "cell_type": "markdown",
      "source": [
        "6.3 Evaluate the Best Model"
      ],
      "metadata": {
        "id": "S3HTpF6hH7M3"
      }
    },
    {
      "cell_type": "code",
      "source": [
        "# Get the best estimator\n",
        "best_lgb = grid_search.best_estimator_\n",
        "\n",
        "# Print best parameters\n",
        "print(\"Best Parameters:\", grid_search.best_params_)\n",
        "\n",
        "# Evaluate on test set\n",
        "y_pred = best_lgb.predict(X_test)\n",
        "mae = mean_absolute_error(y_test, y_pred)\n",
        "rmse = np.sqrt(mean_squared_error(y_test, y_pred))\n",
        "r2 = r2_score(y_test, y_pred)\n",
        "\n",
        "print(f\"\\nOptimized LightGBM Performance:\")\n",
        "print(f\"- MAE: {mae:.4f} (Target: <1.92, previous best)\")\n",
        "print(f\"- RMSE: {rmse:.4f}\")\n",
        "print(f\"- R²: {r2:.4f}\")"
      ],
      "metadata": {
        "id": "mqYP4U00H-Tj"
      },
      "execution_count": null,
      "outputs": []
    },
    {
      "cell_type": "markdown",
      "source": [
        "6.4 Compare with Baseline"
      ],
      "metadata": {
        "id": "P5ia0tutIABh"
      }
    },
    {
      "cell_type": "code",
      "source": [
        "# Calculate improvement over initial LightGBM\n",
        "initial_mae = 1.9194\n",
        "improvement = (initial_mae - mae) / initial_mae * 100\n",
        "\n",
        "print(f\"\\nImprovement Over Initial LightGBM: {improvement:.2f}%\")\n",
        "if improvement >= 5:\n",
        "    print(\"✅ Exceeds 5% improvement target!\")\n",
        "else:\n",
        "    print(\"❌ Needs further tuning (try expanding parameter grid)\")"
      ],
      "metadata": {
        "id": "1Z1CM9IHH_el"
      },
      "execution_count": null,
      "outputs": []
    },
    {
      "cell_type": "markdown",
      "source": [
        "6.5 Visualize Feature Importance"
      ],
      "metadata": {
        "id": "SFrY1AUpIFPx"
      }
    },
    {
      "cell_type": "code",
      "source": [
        "# Plot top 20 important features\n",
        "plt.figure(figsize=(10, 8))\n",
        "lgb.plot_importance(best_lgb, max_num_features=20, importance_type='gain')\n",
        "plt.title('Top 20 Features by Importance (LightGBM)')\n",
        "plt.show()"
      ],
      "metadata": {
        "id": "lT61wEa6IKut"
      },
      "execution_count": null,
      "outputs": []
    }
  ]
}